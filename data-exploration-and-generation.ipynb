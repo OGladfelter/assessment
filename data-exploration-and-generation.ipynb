{
 "cells": [
  {
   "cell_type": "code",
   "execution_count": 2,
   "id": "c06a844a",
   "metadata": {},
   "outputs": [],
   "source": [
    "import pandas as pd"
   ]
  },
  {
   "cell_type": "code",
   "execution_count": 39,
   "id": "3c33f706",
   "metadata": {},
   "outputs": [],
   "source": [
    "# read AMI smart meter data\n",
    "df = pd.read_csv(\"data/daily_dataset.csv\")\n",
    "\n",
    "# read Chicago library data to borrow a GPS coordinate for this mock dataset\n",
    "gps = pd.read_csv(\"data/libraries.csv\")\n",
    "\n",
    "# get list of unique IDs, subset to just 300 for the purposes of this project\n",
    "amiIDs = df['LCLid'].unique()[:len(gps)] # our GPS data set only has 80 rows\n",
    "\n",
    "# combine unique IDs and addresses into new dataframe\n",
    "meta = pd.DataFrame({'LCLid':amiIDs, 'location':gps['LOCATION']})\n",
    "\n",
    "meta[['lat', 'lon']] = meta['location'].str.strip('()').str.split(', ', expand=True)\n",
    "\n",
    "meta.to_csv(\"data/meta_data.csv\", index=False)\n",
    "\n",
    "# inner merge location onto meter data\n",
    "df = df.merge(meta)\n",
    "\n",
    "df.to_csv(\"data/sensor_data_with_loc.csv\", index=False)"
   ]
  }
 ],
 "metadata": {
  "kernelspec": {
   "display_name": "Python 3",
   "language": "python",
   "name": "python3"
  },
  "language_info": {
   "codemirror_mode": {
    "name": "ipython",
    "version": 3
   },
   "file_extension": ".py",
   "mimetype": "text/x-python",
   "name": "python",
   "nbconvert_exporter": "python",
   "pygments_lexer": "ipython3",
   "version": "3.8.8"
  }
 },
 "nbformat": 4,
 "nbformat_minor": 5
}
